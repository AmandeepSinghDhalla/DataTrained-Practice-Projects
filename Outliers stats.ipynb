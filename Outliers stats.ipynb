{
 "cells": [
  {
   "cell_type": "markdown",
   "metadata": {},
   "source": [
    "# Outliers using Visualisation"
   ]
  },
  {
   "cell_type": "markdown",
   "metadata": {},
   "source": [
    "Now we will work with the outliers. As we know outliers are the data which are abnormal and differ from the regular data. Z-score is used to find out the outliers. But we can also use visualisation to find out if there are outliers in our data or not. If, we want the specific data about the outliers, then we use the z score. We will look and both visualisation and z-score  meathod."
   ]
  },
  {
   "cell_type": "code",
   "execution_count": 2,
   "metadata": {},
   "outputs": [],
   "source": [
    "import pandas as pd\n",
    "import numpy as np\n",
    "import scipy.stats as st\n",
    "import matplotlib.pyplot as plt"
   ]
  },
  {
   "cell_type": "code",
   "execution_count": 3,
   "metadata": {},
   "outputs": [
    {
     "data": {
      "text/html": [
       "<div>\n",
       "<style scoped>\n",
       "    .dataframe tbody tr th:only-of-type {\n",
       "        vertical-align: middle;\n",
       "    }\n",
       "\n",
       "    .dataframe tbody tr th {\n",
       "        vertical-align: top;\n",
       "    }\n",
       "\n",
       "    .dataframe thead th {\n",
       "        text-align: right;\n",
       "    }\n",
       "</style>\n",
       "<table border=\"1\" class=\"dataframe\">\n",
       "  <thead>\n",
       "    <tr style=\"text-align: right;\">\n",
       "      <th></th>\n",
       "      <th>name</th>\n",
       "      <th>height</th>\n",
       "    </tr>\n",
       "    <tr>\n",
       "      <th>order</th>\n",
       "      <th></th>\n",
       "      <th></th>\n",
       "    </tr>\n",
       "  </thead>\n",
       "  <tbody>\n",
       "    <tr>\n",
       "      <th>35</th>\n",
       "      <td>John F. Kennedy</td>\n",
       "      <td>183</td>\n",
       "    </tr>\n",
       "    <tr>\n",
       "      <th>20</th>\n",
       "      <td>James A. Garfield</td>\n",
       "      <td>183</td>\n",
       "    </tr>\n",
       "    <tr>\n",
       "      <th>9</th>\n",
       "      <td>William Henry Harrison</td>\n",
       "      <td>173</td>\n",
       "    </tr>\n",
       "    <tr>\n",
       "      <th>23</th>\n",
       "      <td>Benjamin Harrison</td>\n",
       "      <td>168</td>\n",
       "    </tr>\n",
       "    <tr>\n",
       "      <th>31</th>\n",
       "      <td>Herbert Hoover</td>\n",
       "      <td>182</td>\n",
       "    </tr>\n",
       "  </tbody>\n",
       "</table>\n",
       "</div>"
      ],
      "text/plain": [
       "                         name  height\n",
       "order                                \n",
       "35            John F. Kennedy     183\n",
       "20          James A. Garfield     183\n",
       "9      William Henry Harrison     173\n",
       "23          Benjamin Harrison     168\n",
       "31             Herbert Hoover     182"
      ]
     },
     "execution_count": 3,
     "metadata": {},
     "output_type": "execute_result"
    }
   ],
   "source": [
    "ds1 = pd.read_csv('pres_height.csv', index_col = 'order')\n",
    "ds1.sample(5)"
   ]
  },
  {
   "cell_type": "code",
   "execution_count": 4,
   "metadata": {},
   "outputs": [
    {
     "data": {
      "image/png": "[encoded data removed]",
      "text/plain": [
       "<Figure size 432x288 with 1 Axes>"
      ]
     },
     "metadata": {
      "needs_background": "light"
     },
     "output_type": "display_data"
    }
   ],
   "source": [
    "plt.boxplot(ds1['height'])\n",
    "plt.show()"
   ]
  },
  {
   "cell_type": "markdown",
   "metadata": {},
   "source": [
    "As we can see there are no outliers here. We now check another data"
   ]
  },
  {
   "cell_type": "code",
   "execution_count": 5,
   "metadata": {},
   "outputs": [
    {
     "data": {
      "text/html": [
       "<div>\n",
       "<style scoped>\n",
       "    .dataframe tbody tr th:only-of-type {\n",
       "        vertical-align: middle;\n",
       "    }\n",
       "\n",
       "    .dataframe tbody tr th {\n",
       "        vertical-align: top;\n",
       "    }\n",
       "\n",
       "    .dataframe thead th {\n",
       "        text-align: right;\n",
       "    }\n",
       "</style>\n",
       "<table border=\"1\" class=\"dataframe\">\n",
       "  <thead>\n",
       "    <tr style=\"text-align: right;\">\n",
       "      <th></th>\n",
       "      <th>satisfaction_level</th>\n",
       "      <th>last_evaluation</th>\n",
       "      <th>number_project</th>\n",
       "      <th>average_montly_hours</th>\n",
       "      <th>time_spend_company</th>\n",
       "      <th>Work_accident</th>\n",
       "      <th>left</th>\n",
       "      <th>promotion_last_5years</th>\n",
       "      <th>Departments</th>\n",
       "      <th>salary</th>\n",
       "    </tr>\n",
       "  </thead>\n",
       "  <tbody>\n",
       "    <tr>\n",
       "      <th>0</th>\n",
       "      <td>0.38</td>\n",
       "      <td>0.53</td>\n",
       "      <td>2</td>\n",
       "      <td>157</td>\n",
       "      <td>3</td>\n",
       "      <td>0</td>\n",
       "      <td>1</td>\n",
       "      <td>0</td>\n",
       "      <td>sales</td>\n",
       "      <td>low</td>\n",
       "    </tr>\n",
       "    <tr>\n",
       "      <th>1</th>\n",
       "      <td>0.80</td>\n",
       "      <td>0.86</td>\n",
       "      <td>5</td>\n",
       "      <td>262</td>\n",
       "      <td>6</td>\n",
       "      <td>0</td>\n",
       "      <td>1</td>\n",
       "      <td>0</td>\n",
       "      <td>sales</td>\n",
       "      <td>medium</td>\n",
       "    </tr>\n",
       "    <tr>\n",
       "      <th>2</th>\n",
       "      <td>0.11</td>\n",
       "      <td>0.88</td>\n",
       "      <td>7</td>\n",
       "      <td>272</td>\n",
       "      <td>4</td>\n",
       "      <td>0</td>\n",
       "      <td>1</td>\n",
       "      <td>0</td>\n",
       "      <td>sales</td>\n",
       "      <td>medium</td>\n",
       "    </tr>\n",
       "    <tr>\n",
       "      <th>3</th>\n",
       "      <td>0.72</td>\n",
       "      <td>0.87</td>\n",
       "      <td>5</td>\n",
       "      <td>223</td>\n",
       "      <td>5</td>\n",
       "      <td>0</td>\n",
       "      <td>1</td>\n",
       "      <td>0</td>\n",
       "      <td>sales</td>\n",
       "      <td>low</td>\n",
       "    </tr>\n",
       "    <tr>\n",
       "      <th>4</th>\n",
       "      <td>0.37</td>\n",
       "      <td>0.52</td>\n",
       "      <td>2</td>\n",
       "      <td>159</td>\n",
       "      <td>3</td>\n",
       "      <td>0</td>\n",
       "      <td>1</td>\n",
       "      <td>0</td>\n",
       "      <td>sales</td>\n",
       "      <td>low</td>\n",
       "    </tr>\n",
       "  </tbody>\n",
       "</table>\n",
       "</div>"
      ],
      "text/plain": [
       "   satisfaction_level  last_evaluation  number_project  average_montly_hours  \\\n",
       "0                0.38             0.53               2                   157   \n",
       "1                0.80             0.86               5                   262   \n",
       "2                0.11             0.88               7                   272   \n",
       "3                0.72             0.87               5                   223   \n",
       "4                0.37             0.52               2                   159   \n",
       "\n",
       "   time_spend_company  Work_accident  left  promotion_last_5years  \\\n",
       "0                   3              0     1                      0   \n",
       "1                   6              0     1                      0   \n",
       "2                   4              0     1                      0   \n",
       "3                   5              0     1                      0   \n",
       "4                   3              0     1                      0   \n",
       "\n",
       "  Departments   salary  \n",
       "0        sales     low  \n",
       "1        sales  medium  \n",
       "2        sales  medium  \n",
       "3        sales     low  \n",
       "4        sales     low  "
      ]
     },
     "execution_count": 5,
     "metadata": {},
     "output_type": "execute_result"
    }
   ],
   "source": [
    "ds2 = pd.read_csv('hr_rate.csv')\n",
    "ds2.head()"
   ]
  },
  {
   "cell_type": "code",
   "execution_count": 6,
   "metadata": {},
   "outputs": [
    {
     "data": {
      "image/png": "[encoded data removed]",
      "text/plain": [
       "<Figure size 432x288 with 1 Axes>"
      ]
     },
     "metadata": {
      "needs_background": "light"
     },
     "output_type": "display_data"
    }
   ],
   "source": [
    "plt.boxplot(ds2['satisfaction_level'])\n",
    "plt.show() # no outliers."
   ]
  },
  {
   "cell_type": "code",
   "execution_count": 7,
   "metadata": {},
   "outputs": [
    {
     "data": {
      "text/html": [
       "<div>\n",
       "<style scoped>\n",
       "    .dataframe tbody tr th:only-of-type {\n",
       "        vertical-align: middle;\n",
       "    }\n",
       "\n",
       "    .dataframe tbody tr th {\n",
       "        vertical-align: top;\n",
       "    }\n",
       "\n",
       "    .dataframe thead th {\n",
       "        text-align: right;\n",
       "    }\n",
       "</style>\n",
       "<table border=\"1\" class=\"dataframe\">\n",
       "  <thead>\n",
       "    <tr style=\"text-align: right;\">\n",
       "      <th></th>\n",
       "      <th>Survived</th>\n",
       "      <th>Pclass</th>\n",
       "      <th>Name</th>\n",
       "      <th>Sex</th>\n",
       "      <th>Age</th>\n",
       "      <th>SibSp</th>\n",
       "      <th>Parch</th>\n",
       "      <th>Ticket</th>\n",
       "      <th>Fare</th>\n",
       "      <th>Cabin</th>\n",
       "      <th>Embarked</th>\n",
       "    </tr>\n",
       "    <tr>\n",
       "      <th>PassengerId</th>\n",
       "      <th></th>\n",
       "      <th></th>\n",
       "      <th></th>\n",
       "      <th></th>\n",
       "      <th></th>\n",
       "      <th></th>\n",
       "      <th></th>\n",
       "      <th></th>\n",
       "      <th></th>\n",
       "      <th></th>\n",
       "      <th></th>\n",
       "    </tr>\n",
       "  </thead>\n",
       "  <tbody>\n",
       "    <tr>\n",
       "      <th>1</th>\n",
       "      <td>0</td>\n",
       "      <td>3</td>\n",
       "      <td>Braund, Mr. Owen Harris</td>\n",
       "      <td>male</td>\n",
       "      <td>22.0</td>\n",
       "      <td>1</td>\n",
       "      <td>0</td>\n",
       "      <td>A/5 21171</td>\n",
       "      <td>7.2500</td>\n",
       "      <td>NaN</td>\n",
       "      <td>S</td>\n",
       "    </tr>\n",
       "    <tr>\n",
       "      <th>2</th>\n",
       "      <td>1</td>\n",
       "      <td>1</td>\n",
       "      <td>Cumings, Mrs. John Bradley (Florence Briggs Th...</td>\n",
       "      <td>female</td>\n",
       "      <td>38.0</td>\n",
       "      <td>1</td>\n",
       "      <td>0</td>\n",
       "      <td>PC 17599</td>\n",
       "      <td>71.2833</td>\n",
       "      <td>C85</td>\n",
       "      <td>C</td>\n",
       "    </tr>\n",
       "    <tr>\n",
       "      <th>3</th>\n",
       "      <td>1</td>\n",
       "      <td>3</td>\n",
       "      <td>Heikkinen, Miss. Laina</td>\n",
       "      <td>female</td>\n",
       "      <td>26.0</td>\n",
       "      <td>0</td>\n",
       "      <td>0</td>\n",
       "      <td>STON/O2. 3101282</td>\n",
       "      <td>7.9250</td>\n",
       "      <td>NaN</td>\n",
       "      <td>S</td>\n",
       "    </tr>\n",
       "    <tr>\n",
       "      <th>4</th>\n",
       "      <td>1</td>\n",
       "      <td>1</td>\n",
       "      <td>Futrelle, Mrs. Jacques Heath (Lily May Peel)</td>\n",
       "      <td>female</td>\n",
       "      <td>35.0</td>\n",
       "      <td>1</td>\n",
       "      <td>0</td>\n",
       "      <td>113803</td>\n",
       "      <td>53.1000</td>\n",
       "      <td>C123</td>\n",
       "      <td>S</td>\n",
       "    </tr>\n",
       "    <tr>\n",
       "      <th>5</th>\n",
       "      <td>0</td>\n",
       "      <td>3</td>\n",
       "      <td>Allen, Mr. William Henry</td>\n",
       "      <td>male</td>\n",
       "      <td>35.0</td>\n",
       "      <td>0</td>\n",
       "      <td>0</td>\n",
       "      <td>373450</td>\n",
       "      <td>8.0500</td>\n",
       "      <td>NaN</td>\n",
       "      <td>S</td>\n",
       "    </tr>\n",
       "  </tbody>\n",
       "</table>\n",
       "</div>"
      ],
      "text/plain": [
       "             Survived  Pclass  \\\n",
       "PassengerId                     \n",
       "1                   0       3   \n",
       "2                   1       1   \n",
       "3                   1       3   \n",
       "4                   1       1   \n",
       "5                   0       3   \n",
       "\n",
       "                                                          Name     Sex   Age  \\\n",
       "PassengerId                                                                    \n",
       "1                                      Braund, Mr. Owen Harris    male  22.0   \n",
       "2            Cumings, Mrs. John Bradley (Florence Briggs Th...  female  38.0   \n",
       "3                                       Heikkinen, Miss. Laina  female  26.0   \n",
       "4                 Futrelle, Mrs. Jacques Heath (Lily May Peel)  female  35.0   \n",
       "5                                     Allen, Mr. William Henry    male  35.0   \n",
       "\n",
       "             SibSp  Parch            Ticket     Fare Cabin Embarked  \n",
       "PassengerId                                                          \n",
       "1                1      0         A/5 21171   7.2500   NaN        S  \n",
       "2                1      0          PC 17599  71.2833   C85        C  \n",
       "3                0      0  STON/O2. 3101282   7.9250   NaN        S  \n",
       "4                1      0            113803  53.1000  C123        S  \n",
       "5                0      0            373450   8.0500   NaN        S  "
      ]
     },
     "execution_count": 7,
     "metadata": {},
     "output_type": "execute_result"
    }
   ],
   "source": [
    "ds3 = pd.read_csv('titanic_fare.csv', index_col = 'PassengerId')\n",
    "ds3.head()"
   ]
  },
  {
   "cell_type": "code",
   "execution_count": 8,
   "metadata": {},
   "outputs": [
    {
     "data": {
      "image/png": "[encoded data removed]",
      "text/plain": [
       "<Figure size 432x288 with 1 Axes>"
      ]
     },
     "metadata": {
      "needs_background": "light"
     },
     "output_type": "display_data"
    }
   ],
   "source": [
    "# Now we check the fare column of the above dataset.\n",
    "plt.boxplot(ds3['Fare'])\n",
    "plt.show()"
   ]
  },
  {
   "cell_type": "markdown",
   "metadata": {},
   "source": [
    "As we can see here that there are some values or data which are more tahn they should be or max value, hence they are the outliers.\n",
    "\n",
    "But using visualisation we can only find out that there are some outliers present in the dataset. To know there position in the dataset, we will use the z-score"
   ]
  },
  {
   "cell_type": "raw",
   "metadata": {},
   "source": []
  },
  {
   "cell_type": "markdown",
   "metadata": {},
   "source": [
    "# Discovering outliers using Mathematical functions or z-score."
   ]
  },
  {
   "cell_type": "markdown",
   "metadata": {},
   "source": [
    "We know that the z-score is used to find out the outliers in the data and any value which does not lie in the range of -3 < z-score < 3 are called the outliers. But when we have very large datasets, then it would be difficult to find first less than -3 and then greater than 3 to find out the outliers. So in order to reduce this hassale, we simply mod or convert all the negative z-score values to positive and then set a threshold of 3 so that any values above 3 are the outliers and we get to know there location. This conversion from negative to positive is done using the \"abs\" function from numpy library whose syntax is as follows:\n",
    "            variable_name = numpy.abs(zscore(data_name)) where zscore function is imported from scipy.\n"
   ]
  },
  {
   "cell_type": "code",
   "execution_count": 9,
   "metadata": {},
   "outputs": [],
   "source": [
    "#np.where?\n",
    "from scipy.stats import zscore"
   ]
  },
  {
   "cell_type": "code",
   "execution_count": 10,
   "metadata": {},
   "outputs": [
    {
     "data": {
      "text/plain": [
       "array([-5.02445171e-01,  7.86845294e-01, -4.88854258e-01,  4.20730236e-01,\n",
       "       -4.86337422e-01, -4.78116429e-01,  3.95813561e-01, -2.24083121e-01,\n",
       "       -4.24256141e-01, -4.29555021e-02, -3.12172378e-01, -1.13845709e-01,\n",
       "       -4.86337422e-01, -1.87093118e-02, -4.90279793e-01, -3.26266659e-01,\n",
       "       -6.19988892e-02, -3.86670720e-01, -2.85997284e-01, -5.02948539e-01,\n",
       "       -1.24919787e-01, -3.86670720e-01, -4.86756223e-01,  6.63597416e-02,\n",
       "       -2.24083121e-01, -1.64441595e-02, -5.02948539e-01,  4.64700108e+00,\n",
       "       -4.89776426e-01, -4.89442190e-01, -9.02720170e-02,  2.30172882e+00,\n",
       "       -4.92377828e-01, -4.37007438e-01,  1.00606170e+00,  3.98582080e-01,\n",
       "       -5.02863973e-01, -4.86337422e-01, -2.85997284e-01, -4.22073541e-01,\n",
       "       -4.57645492e-01, -2.25593223e-01, -4.89442190e-01,  1.88762532e-01,\n",
       "       -4.89776426e-01, -4.86337422e-01, -3.36334002e-01, -4.92377828e-01,\n",
       "       -2.11917743e-01, -2.90024222e-01,  1.50673744e-01, -4.91371093e-01,\n",
       "        8.96496787e-01, -1.24919787e-01,  5.99510151e-01,  6.63597416e-02,\n",
       "       -4.37007438e-01, -5.02863973e-01, -8.96840841e-02,  2.95895176e-01,\n",
       "       -5.02863973e-01,  9.62353321e-01,  1.03232136e+00, -8.66638810e-02,\n",
       "       -9.02720170e-02, -3.41452240e-01, -4.37007438e-01, -4.84156835e-01,\n",
       "       -4.88854258e-01, -4.74004926e-01, -4.37007438e-01,  2.95895176e-01,\n",
       "        8.31477855e-01, -3.57390858e-01,  4.89103607e-01, -4.94391297e-01,\n",
       "       -4.89442190e-01, -4.86337422e-01, -6.45157251e-02, -3.97241431e-01,\n",
       "       -4.67209469e-01, -4.57142125e-01, -4.91622777e-01,  2.99922113e-01,\n",
       "       -4.37007438e-01, -3.29286862e-01,  4.37082185e-02, -4.86337422e-01,\n",
       "        4.64700108e+00, -4.86337422e-01, -4.86337422e-01, -4.90279793e-01,\n",
       "        5.83317835e-01, -2.34150465e-01, -5.02445171e-01, -4.86337422e-01,\n",
       "        4.93298232e-02,  6.27277898e-01, -1.85323848e-01, -1.24919787e-01,\n",
       "       -4.89442190e-01, -4.89442190e-01,  9.07737982e-01, -4.74172044e-01,\n",
       "       -4.88854258e-01, -4.89442190e-01, -4.94391297e-01, -4.91874461e-01,\n",
       "       -4.89442190e-01, -1.62168958e-01,  3.98582080e-01, -3.57390858e-01,\n",
       "       -4.86337422e-01, -4.50598352e-01, -3.57308306e-01, -4.88854258e-01,\n",
       "       -4.92377828e-01, -2.25593223e-01,  4.33533223e+00, -1.87093118e-02,\n",
       "        8.31477855e-01, -4.86337422e-01, -4.29555021e-02, -3.86670720e-01,\n",
       "        9.07737982e-01, -4.22073541e-01, -4.92377828e-01, -5.04625758e-01,\n",
       "       -1.98244277e-01, -5.07982210e-01, -4.89442190e-01, -5.06472109e-01,\n",
       "       -3.56468689e-01, -1.24919787e-01, -3.86670720e-01, -3.45479177e-01,\n",
       "       -1.19215630e-01,  4.20730236e-01, -4.62846282e-01,  9.46245572e-01,\n",
       "       -3.41452240e-01, -4.92377828e-01, -3.29286862e-01, -5.12512515e-01,\n",
       "       -4.16872751e-01,  9.15281006e-02, -4.91455659e-01,  4.37082185e-02,\n",
       "       -1.24919787e-01, -3.86670720e-01, -3.96234697e-01,  6.92548513e-01,\n",
       "       -4.86337422e-01, -3.56468689e-01, -5.01186753e-01,  5.87429338e-01,\n",
       "       -4.92714077e-01, -4.86337422e-01, -4.74004926e-01,  7.51945840e-01,\n",
       "       -3.24253190e-01, -3.31300330e-01, -4.91874461e-01, -4.74004926e-01,\n",
       "        1.50673744e-01, -2.35157199e-01,  4.58986142e-01, -8.66638810e-02,\n",
       "       -1.26429888e-01,  4.89103607e-01,  2.60903672e-02, -6.19988892e-02,\n",
       "       -4.24256141e-01, -4.88854258e-01, -3.03713226e-02, -4.90279793e-01,\n",
       "       -1.35657615e-01, -7.03044477e-02, -3.86670720e-01, -6.48421654e-01,\n",
       "        7.51945840e-01, -3.45394611e-01, -1.64441595e-02,  1.36831147e-01,\n",
       "       -2.04955168e-01,  3.58312706e-01, -3.36334002e-01, -1.13845709e-01,\n",
       "       -3.36334002e-01, -4.89442190e-01, -3.86670720e-01, -3.86670720e-01,\n",
       "       -4.90279793e-01, -1.24919787e-01, -9.02720170e-02,  2.30172882e+00,\n",
       "       -4.92377828e-01, -4.79205715e-01, -4.92377828e-01, -3.86670720e-01,\n",
       "       -4.57142125e-01,  7.51945840e-01, -5.17630753e-01, -5.02948539e-01,\n",
       "       -4.86337422e-01, -4.37762489e-01, -3.29286862e-01, -2.70141218e-01,\n",
       "       -4.92377828e-01, -2.42463508e-02, -5.06472109e-01, -2.25593223e-01,\n",
       "       -5.02445171e-01, -3.86670720e-01, -4.92377828e-01,  1.63233504e+00,\n",
       "       -4.88854258e-01, -1.04785100e-01,  8.87687861e-01, -4.37007438e-01,\n",
       "       -4.86337422e-01, -3.86670720e-01, -4.86337422e-01, -4.89442190e-01,\n",
       "        1.16370019e+00, -4.60162328e-01, -4.37007438e-01, -5.02445171e-01,\n",
       "       -3.86670720e-01, -1.35657615e-01,  1.03232136e+00, -4.91874461e-01,\n",
       "       -3.76603377e-01, -1.64441595e-02, -4.37007438e-01, -4.96404765e-01,\n",
       "       -1.24919787e-01, -1.19886115e-01, -4.37007438e-01, -4.01268368e-01,\n",
       "       -3.57390858e-01, -3.36334002e-01, -4.37007438e-01, -5.04962007e-01,\n",
       "       -5.02948539e-01,  1.16370019e+00, -4.91874461e-01, -3.56468689e-01,\n",
       "        4.09740724e-01, -1.24919787e-01, -5.02445171e-01, -4.37762489e-01,\n",
       "       -1.13845709e-01, -3.24253190e-01, -2.41449289e-01, -3.41452240e-01,\n",
       "        9.46245572e-01,  1.09322879e+00,  9.66716653e+00, -1.24919787e-01,\n",
       "       -4.92377828e-01, -1.64441595e-02,  9.55306181e-01, -6.48421654e-01,\n",
       "       -4.92377828e-01, -4.37007438e-01,  1.50673744e-01, -4.91874461e-01,\n",
       "        2.44149778e+00,  2.08251241e+00, -2.42463508e-02, -6.48421654e-01,\n",
       "       -2.55795253e-01, -5.04214441e-02, -4.92377828e-01,  9.21244331e-01,\n",
       "       -4.92377828e-01, -6.48421654e-01, -6.19988892e-02, -2.40694238e-01,\n",
       "       -4.92377828e-01, -4.90279793e-01, -4.57142125e-01, -4.86337422e-01,\n",
       "       -1.24919787e-01, -4.74004926e-01, -4.57142125e-01, -4.89442190e-01,\n",
       "       -3.86670720e-01, -4.92377828e-01,  9.39198431e-01,  1.18542955e+00,\n",
       "       -3.89187556e-01, -4.70229672e-01, -4.89442190e-01, -9.02720170e-02,\n",
       "       -5.02863973e-01,  2.40299019e+00, -3.43136943e-02,  4.33533223e+00,\n",
       "       -4.92377828e-01, -1.80290176e-01, -6.48421654e-01, -3.99758267e-01,\n",
       "       -4.86337422e-01,  2.40299019e+00,  1.58417891e+00,  1.54424578e+00,\n",
       "       -1.65189161e-01,  4.97829980e-01,  1.02594470e+00,  4.63441690e+00,\n",
       "       -1.24919787e-01, -4.89442190e-01, -1.19886115e-01, -4.90279793e-01,\n",
       "       -1.24919787e-01, -3.66536033e-01,  2.67111778e+00,  2.05969377e+00,\n",
       "       -5.02445171e-01, -4.89442190e-01, -3.99758267e-01, -6.45157251e-02,\n",
       "        7.51945840e-01,  2.08251241e+00, -5.22831542e-01, -3.86670720e-01,\n",
       "       -2.35157199e-01,  5.18971402e-01, -1.80290176e-01, -7.45830687e-02,\n",
       "        2.44149778e+00, -2.85997284e-01,  2.04257929e+00, -4.89442190e-01,\n",
       "        6.92548513e-01,  2.05969377e+00, -4.86337422e-01,  6.63597416e-02,\n",
       "       -1.24919787e-01,  4.64700108e+00, -3.86670720e-01, -3.86670720e-01,\n",
       "       -3.86670720e-01, -3.86670720e-01, -3.86670720e-01, -3.24253190e-01,\n",
       "       -3.28280127e-01, -4.74004926e-01, -4.62679164e-01,  5.62923980e-02,\n",
       "       -5.02863973e-01, -2.90024222e-01, -5.02948539e-01, -4.57142125e-01,\n",
       "        4.58986142e-01, -3.86670720e-01, -4.89776426e-01, -4.89776426e-01,\n",
       "       -8.66638810e-02, -9.02720170e-02, -3.57390858e-01, -5.06472109e-01,\n",
       "       -3.36334002e-01, -5.02445171e-01,  8.66713557e-01, -5.02863973e-01,\n",
       "       -4.92377828e-01,  7.46912168e-01,  4.67879633e-01, -5.17630753e-01,\n",
       "       -4.86337422e-01,  2.08251241e+00, -2.24083121e-01,  1.00606170e+00,\n",
       "       -5.02445171e-01,  3.61006469e+00, -5.67631221e-01, -4.91874461e-01,\n",
       "        3.93272305e+00, -3.31467448e-01, -4.88854258e-01,  3.98582080e-01,\n",
       "       -4.89442190e-01,  8.31477855e-01,  2.95895176e-01, -3.86670720e-01,\n",
       "       -4.92796629e-01, -4.06805407e-01,  1.76774081e+00, -4.91455659e-01,\n",
       "       -4.88854258e-01,  1.63233504e+00, -3.12172378e-01, -4.91455659e-01,\n",
       "       -4.90279793e-01, -1.24919787e-01, -4.37007438e-01, -3.93717861e-01,\n",
       "       -4.88854258e-01, -4.86337422e-01, -4.50598352e-01, -3.29286862e-01,\n",
       "       -4.74004926e-01, -2.25593223e-01, -4.92377828e-01, -2.70896269e-01,\n",
       "       -4.91874461e-01, -1.35657615e-01, -4.89442190e-01, -5.10331928e-01,\n",
       "        1.16370019e+00, -6.48421654e-01, -4.88854258e-01, -4.86337422e-01,\n",
       "        5.95568003e-03, -3.86670720e-01, -3.86670720e-01, -1.62168958e-01,\n",
       "       -4.89442190e-01, -4.92714077e-01, -4.89860992e-01, -3.58482158e-01,\n",
       "       -2.41449289e-01, -5.02445171e-01, -1.24919787e-01, -1.24919787e-01,\n",
       "       -4.92377828e-01, -4.86337422e-01, -1.13845709e-01, -3.24253190e-01,\n",
       "       -1.24919787e-01, -5.04962007e-01,  4.77107360e-01,  1.76774081e+00,\n",
       "        4.37082185e-02, -2.70896269e-01,  4.64700108e+00, -4.37007438e-01,\n",
       "       -1.19886115e-01, -4.57142125e-01, -4.91874461e-01, -3.86670720e-01,\n",
       "       -4.85079004e-01,  9.99769611e-01, -2.55795253e-01, -1.13845709e-01,\n",
       "       -2.60661807e-01, -3.43136943e-02, -8.96840841e-02, -2.46398395e-01,\n",
       "       -8.96840841e-02,  1.14566354e+00, -4.86337422e-01, -4.89442190e-01,\n",
       "       -1.13845709e-01,  3.95813561e-01, -4.37007438e-01, -4.92377828e-01,\n",
       "       -1.13845709e-01, -4.86337422e-01,  1.26763803e-01, -3.86670720e-01,\n",
       "       -4.86337422e-01, -5.06472109e-01, -6.48421654e-01, -1.13845709e-01,\n",
       "       -4.92881195e-01, -2.60661807e-01, -5.02445171e-01, -4.74004926e-01,\n",
       "       -8.96840841e-02, -3.70730088e-01, -4.50346668e-01,  3.98582080e-01,\n",
       "       -2.25593223e-01, -5.06556675e-01, -4.96992698e-01, -4.01016685e-01,\n",
       "        2.95895176e-01, -6.48421654e-01, -4.86337422e-01, -4.55380340e-01,\n",
       "        1.18542955e+00, -1.35657615e-01,  1.16370019e+00, -5.04214441e-02,\n",
       "       -4.86337422e-01, -3.28280127e-01, -2.46398395e-01, -5.02445171e-01,\n",
       "       -3.43136943e-02,  3.48329928e-01, -4.86337422e-01, -3.57308306e-01,\n",
       "        9.27453868e-01, -3.44387877e-01,  2.40299019e+00, -4.91455659e-01,\n",
       "       -4.74004926e-01, -4.92377828e-01, -4.94810098e-01, -4.55380340e-01,\n",
       "        1.09322879e+00,  1.54424578e+00, -1.24919787e-01, -1.13845709e-01,\n",
       "       -1.94887825e-01,  4.89103607e-01, -4.92377828e-01, -4.86337422e-01,\n",
       "       -1.19131064e-01,  5.47578765e-01, -4.97496065e-01,  3.65765123e-02,\n",
       "       -4.37007438e-01, -1.62168958e-01, -1.24919787e-01, -4.89442190e-01,\n",
       "        1.23417160e+00, -4.89442190e-01, -5.02948539e-01,  5.18971402e-01,\n",
       "       -5.02863973e-01, -4.92377828e-01, -4.37007438e-01,  3.81703316e+00,\n",
       "       -4.88854258e-01, -4.16872751e-01, -1.24919787e-01, -5.02863973e-01,\n",
       "       -5.02863973e-01, -1.98244277e-01, -4.74004926e-01, -1.19886115e-01,\n",
       "       -1.13845709e-01,  1.49441243e+00, -3.56468689e-01,  3.48245362e-01,\n",
       "        7.81141137e-01, -1.87093118e-02, -1.87093118e-02, -1.24919787e-01,\n",
       "        1.49441243e+00, -1.24919787e-01, -1.24919787e-01, -3.69304552e-01,\n",
       "       -2.35157199e-01,  9.15281006e-02,  1.58417891e+00, -1.24919787e-01,\n",
       "       -4.90783161e-01, -5.02948539e-01, -4.91874461e-01, -1.13845709e-01,\n",
       "        1.48911959e-01,  3.93272305e+00,  9.55306181e-01, -2.98078096e-01,\n",
       "       -4.92377828e-01, -4.89442190e-01, -3.76603377e-01, -4.86337422e-01,\n",
       "       -4.86337422e-01, -1.62168958e-01, -4.89442190e-01, -2.24083121e-01,\n",
       "       -5.02863973e-01, -4.90279793e-01, -4.37007438e-01,  3.88095935e-01,\n",
       "       -1.17117595e-01, -4.92377828e-01, -4.86337422e-01, -3.56468689e-01,\n",
       "       -3.86670720e-01,  4.77107360e-01, -3.57308306e-01, -4.88854258e-01,\n",
       "       -4.43810379e-02,  1.58417891e+00, -1.24919787e-01,  1.59482670e-01,\n",
       "       -4.72998191e-01,  9.55306181e-01, -3.46401346e-01,  9.46245572e-01,\n",
       "       -4.86337422e-01, -4.86337422e-01, -5.04962007e-01,  9.27453868e-01,\n",
       "       -5.02445171e-01, -4.92377828e-01, -1.24919787e-01, -1.62168958e-01,\n",
       "        1.60230236e-02, -6.48421654e-01, -5.02948539e-01,  4.97829980e-01,\n",
       "       -1.04785100e-01, -4.89442190e-01,  2.05289083e-01, -4.86337422e-01,\n",
       "       -1.13845709e-01, -3.35327268e-01, -4.89442190e-01, -3.43136943e-02,\n",
       "        1.88762532e-01,  2.44149778e+00, -1.87093118e-02, -5.06472109e-01,\n",
       "       -3.36334002e-01, -4.92377828e-01, -4.86337422e-01,  6.60333014e-01,\n",
       "       -3.58482158e-01, -3.24253190e-01,  1.36831147e-01, -4.37007438e-01,\n",
       "       -3.57390858e-01,  4.09740724e-01, -3.31467448e-01, -4.90279793e-01,\n",
       "       -3.24253190e-01,  2.34754408e-03, -3.99758267e-01,  9.21244331e-01,\n",
       "       -4.89442190e-01, -4.92714077e-01, -4.43810379e-02, -5.06387543e-01,\n",
       "       -3.43136943e-02, -6.48421654e-01, -8.66638810e-02, -3.86670720e-01,\n",
       "       -4.88854258e-01, -1.19886115e-01,  1.50673744e-01, -3.24253190e-01,\n",
       "       -4.90279793e-01,  7.46912168e-01, -8.66638810e-02,  4.89103607e-01,\n",
       "       -2.60661807e-01,  8.96496787e-01, -4.89442190e-01,  6.63597416e-02,\n",
       "       -4.96404765e-01, -4.96404765e-01, -4.89442190e-01, -1.85323848e-01,\n",
       "       -4.78619796e-01, -4.90783161e-01, -5.12512515e-01,  8.31477855e-01,\n",
       "       -4.89442190e-01, -3.36334002e-01, -3.86670720e-01,  1.63233504e+00,\n",
       "        2.04257929e+00, -5.02948539e-01, -1.33225345e-01, -4.97496065e-01,\n",
       "       -4.88854258e-01,  8.31477855e-01, -3.86670720e-01, -4.91874461e-01,\n",
       "       -4.86337422e-01,  3.98582080e-01,  1.36831147e-01,  3.98582080e-01,\n",
       "       -4.37007438e-01, -3.86670720e-01, -6.48421654e-01, -4.91874461e-01,\n",
       "       -4.86337422e-01, -4.50262103e-01,  2.95895176e-01,  9.66716653e+00,\n",
       "       -4.84575637e-01,  8.96496787e-01, -4.62679164e-01,  2.95895176e-01,\n",
       "        1.36831147e-01,  1.88762532e-01,  1.50673744e-01, -4.43635777e-01,\n",
       "       -4.91455659e-01,  3.60679280e+00,  4.99255516e-01, -3.78280596e-01,\n",
       "        4.89103607e-01, -5.02948539e-01, -1.13845709e-01, -3.76603377e-01,\n",
       "       -4.86337422e-01, -4.92714077e-01,  1.58417891e+00, -4.94391297e-01,\n",
       "        3.93272305e+00, -1.19131064e-01, -3.57390858e-01, -4.92544946e-01,\n",
       "       -4.90279793e-01, -1.24919787e-01, -3.76603377e-01, -1.19131064e-01,\n",
       "        2.40299019e+00, -3.41452240e-01,  3.48329928e-01, -1.13845709e-01,\n",
       "        3.98582080e-01, -4.57478375e-01, -3.86670720e-01, -4.94391297e-01,\n",
       "        3.93272305e+00, -4.37007438e-01, -3.36334002e-01, -4.91874461e-01,\n",
       "        1.60230236e-02, -5.06387543e-01, -3.86670720e-01, -3.86670720e-01,\n",
       "        4.20730236e-01, -4.74004926e-01, -2.25593223e-01, -4.92629511e-01,\n",
       "       -1.24919787e-01, -4.88854258e-01,  3.60679280e+00, -2.70141218e-01,\n",
       "       -6.48421654e-01, -3.86670720e-01, -3.86670720e-01, -3.24253190e-01,\n",
       "        4.37082185e-02,  9.66716653e+00, -4.89442190e-01, -4.89442190e-01,\n",
       "       -4.43810379e-02,  9.39198431e-01,  4.63441690e+00, -3.24253190e-01,\n",
       "       -4.88854258e-01,  7.81141137e-01, -2.40694238e-01, -3.86670720e-01,\n",
       "        4.20730236e-01, -4.92377828e-01, -1.85323848e-01, -3.97241431e-01,\n",
       "       -4.57142125e-01, -4.89442190e-01,  6.60333014e-01, -3.56468689e-01,\n",
       "       -4.91455659e-01, -4.16872751e-01, -4.86337422e-01,  1.09322879e+00,\n",
       "       -3.56468689e-01, -5.04962007e-01, -5.02863973e-01,  1.76774081e+00,\n",
       "       -4.91874461e-01,  9.21244331e-01,  1.48911959e-01, -4.92377828e-01,\n",
       "       -1.62168958e-01, -4.80045332e-01, -4.57142125e-01, -4.90279793e-01,\n",
       "       -4.37007438e-01, -5.02948539e-01, -1.85323848e-01, -4.92377828e-01,\n",
       "       -4.92377828e-01, -3.97241431e-01, -4.92629511e-01,  3.60679280e+00,\n",
       "       -5.02863973e-01,  4.99255516e-01, -4.43810379e-02, -1.76263239e-01,\n",
       "       -5.06472109e-01, -5.02445171e-01, -4.97496065e-01, -6.19988892e-02,\n",
       "       -2.34150465e-01,  9.46245572e-01, -4.92377828e-01, -1.24919787e-01,\n",
       "        7.51945840e-01, -3.03713226e-02, -4.89442190e-01, -3.86670720e-01,\n",
       "       -1.26345323e-01, -4.73586124e-01, -5.02863973e-01, -1.62168958e-01,\n",
       "       -3.86670720e-01, -1.19886115e-01,  1.76774081e+00, -4.76940563e-01,\n",
       "       -5.07982210e-01, -4.91874461e-01, -6.48421654e-01, -4.91874461e-01,\n",
       "       -3.86670720e-01,  4.20730236e-01, -4.89609308e-01, -1.62168958e-01,\n",
       "       -4.37007438e-01, -1.87093118e-02, -4.86337422e-01, -6.48421654e-01,\n",
       "       -4.88854258e-01,  9.66463381e-02, -5.18552921e-01, -8.66638810e-02,\n",
       "        1.23417160e+00, -4.74004926e-01, -6.48421654e-01, -3.97241431e-01,\n",
       "        1.50673744e-01, -5.08485578e-01,  4.89103607e-01,  9.66463381e-02,\n",
       "       -4.92377828e-01,  9.62353321e-01, -3.57390858e-01, -2.70896269e-01,\n",
       "       -5.02863973e-01, -4.90279793e-01, -4.81303750e-01,  1.02594470e+00,\n",
       "       -4.74004926e-01, -4.86337422e-01,  4.89103607e-01, -5.04214441e-02,\n",
       "       -4.88854258e-01, -4.37007438e-01, -2.42463508e-02, -5.18804605e-01,\n",
       "       -4.74004926e-01, -4.96404765e-01,  7.51945840e-01, -4.89442190e-01,\n",
       "        1.60230236e-02,  1.14566354e+00, -1.87093118e-02, -4.91874461e-01,\n",
       "       -3.41452240e-01,  1.44885022e-01, -1.24919787e-01, -4.60162328e-01,\n",
       "        2.67111778e+00, -1.13845709e-01, -2.60661807e-01, -5.02863973e-01,\n",
       "       -3.64355446e-01, -4.16872751e-01, -1.26345323e-01,  7.51945840e-01,\n",
       "       -3.86670720e-01, -3.86670720e-01, -3.69389118e-01,  3.68295484e-01,\n",
       "       -4.57142125e-01, -4.24256141e-01, -4.89442190e-01,  4.09740724e-01,\n",
       "       -5.47748218e-01, -4.67209469e-01, -1.65189161e-01, -5.02948539e-01,\n",
       "       -4.50179550e-01, -4.89442190e-01, -4.89442190e-01,  1.02594470e+00,\n",
       "       -1.24919787e-01, -4.89442190e-01, -4.36671189e-01, -4.37007438e-01,\n",
       "       -5.06472109e-01, -6.19988892e-02, -3.86670720e-01, -4.43810379e-02,\n",
       "       -1.76263239e-01, -4.43810379e-02, -4.92377828e-01])"
      ]
     },
     "execution_count": 10,
     "metadata": {},
     "output_type": "execute_result"
    }
   ],
   "source": [
    "z = zscore(ds3.Fare)\n",
    "z # here dtype is octadecimal or int64"
   ]
  },
  {
   "cell_type": "code",
   "execution_count": 12,
   "metadata": {},
   "outputs": [
    {
     "data": {
      "text/plain": [
       "array([5.02445171e-01, 7.86845294e-01, 4.88854258e-01, 4.20730236e-01,\n",
       "       4.86337422e-01, 4.78116429e-01, 3.95813561e-01, 2.24083121e-01,\n",
       "       4.24256141e-01, 4.29555021e-02, 3.12172378e-01, 1.13845709e-01,\n",
       "       4.86337422e-01, 1.87093118e-02, 4.90279793e-01, 3.26266659e-01,\n",
       "       6.19988892e-02, 3.86670720e-01, 2.85997284e-01, 5.02948539e-01,\n",
       "       1.24919787e-01, 3.86670720e-01, 4.86756223e-01, 6.63597416e-02,\n",
       "       2.24083121e-01, 1.64441595e-02, 5.02948539e-01, 4.64700108e+00,\n",
       "       4.89776426e-01, 4.89442190e-01, 9.02720170e-02, 2.30172882e+00,\n",
       "       4.92377828e-01, 4.37007438e-01, 1.00606170e+00, 3.98582080e-01,\n",
       "       5.02863973e-01, 4.86337422e-01, 2.85997284e-01, 4.22073541e-01,\n",
       "       4.57645492e-01, 2.25593223e-01, 4.89442190e-01, 1.88762532e-01,\n",
       "       4.89776426e-01, 4.86337422e-01, 3.36334002e-01, 4.92377828e-01,\n",
       "       2.11917743e-01, 2.90024222e-01, 1.50673744e-01, 4.91371093e-01,\n",
       "       8.96496787e-01, 1.24919787e-01, 5.99510151e-01, 6.63597416e-02,\n",
       "       4.37007438e-01, 5.02863973e-01, 8.96840841e-02, 2.95895176e-01,\n",
       "       5.02863973e-01, 9.62353321e-01, 1.03232136e+00, 8.66638810e-02,\n",
       "       9.02720170e-02, 3.41452240e-01, 4.37007438e-01, 4.84156835e-01,\n",
       "       4.88854258e-01, 4.74004926e-01, 4.37007438e-01, 2.95895176e-01,\n",
       "       8.31477855e-01, 3.57390858e-01, 4.89103607e-01, 4.94391297e-01,\n",
       "       4.89442190e-01, 4.86337422e-01, 6.45157251e-02, 3.97241431e-01,\n",
       "       4.67209469e-01, 4.57142125e-01, 4.91622777e-01, 2.99922113e-01,\n",
       "       4.37007438e-01, 3.29286862e-01, 4.37082185e-02, 4.86337422e-01,\n",
       "       4.64700108e+00, 4.86337422e-01, 4.86337422e-01, 4.90279793e-01,\n",
       "       5.83317835e-01, 2.34150465e-01, 5.02445171e-01, 4.86337422e-01,\n",
       "       4.93298232e-02, 6.27277898e-01, 1.85323848e-01, 1.24919787e-01,\n",
       "       4.89442190e-01, 4.89442190e-01, 9.07737982e-01, 4.74172044e-01,\n",
       "       4.88854258e-01, 4.89442190e-01, 4.94391297e-01, 4.91874461e-01,\n",
       "       4.89442190e-01, 1.62168958e-01, 3.98582080e-01, 3.57390858e-01,\n",
       "       4.86337422e-01, 4.50598352e-01, 3.57308306e-01, 4.88854258e-01,\n",
       "       4.92377828e-01, 2.25593223e-01, 4.33533223e+00, 1.87093118e-02,\n",
       "       8.31477855e-01, 4.86337422e-01, 4.29555021e-02, 3.86670720e-01,\n",
       "       9.07737982e-01, 4.22073541e-01, 4.92377828e-01, 5.04625758e-01,\n",
       "       1.98244277e-01, 5.07982210e-01, 4.89442190e-01, 5.06472109e-01,\n",
       "       3.56468689e-01, 1.24919787e-01, 3.86670720e-01, 3.45479177e-01,\n",
       "       1.19215630e-01, 4.20730236e-01, 4.62846282e-01, 9.46245572e-01,\n",
       "       3.41452240e-01, 4.92377828e-01, 3.29286862e-01, 5.12512515e-01,\n",
       "       4.16872751e-01, 9.15281006e-02, 4.91455659e-01, 4.37082185e-02,\n",
       "       1.24919787e-01, 3.86670720e-01, 3.96234697e-01, 6.92548513e-01,\n",
       "       4.86337422e-01, 3.56468689e-01, 5.01186753e-01, 5.87429338e-01,\n",
       "       4.92714077e-01, 4.86337422e-01, 4.74004926e-01, 7.51945840e-01,\n",
       "       3.24253190e-01, 3.31300330e-01, 4.91874461e-01, 4.74004926e-01,\n",
       "       1.50673744e-01, 2.35157199e-01, 4.58986142e-01, 8.66638810e-02,\n",
       "       1.26429888e-01, 4.89103607e-01, 2.60903672e-02, 6.19988892e-02,\n",
       "       4.24256141e-01, 4.88854258e-01, 3.03713226e-02, 4.90279793e-01,\n",
       "       1.35657615e-01, 7.03044477e-02, 3.86670720e-01, 6.48421654e-01,\n",
       "       7.51945840e-01, 3.45394611e-01, 1.64441595e-02, 1.36831147e-01,\n",
       "       2.04955168e-01, 3.58312706e-01, 3.36334002e-01, 1.13845709e-01,\n",
       "       3.36334002e-01, 4.89442190e-01, 3.86670720e-01, 3.86670720e-01,\n",
       "       4.90279793e-01, 1.24919787e-01, 9.02720170e-02, 2.30172882e+00,\n",
       "       4.92377828e-01, 4.79205715e-01, 4.92377828e-01, 3.86670720e-01,\n",
       "       4.57142125e-01, 7.51945840e-01, 5.17630753e-01, 5.02948539e-01,\n",
       "       4.86337422e-01, 4.37762489e-01, 3.29286862e-01, 2.70141218e-01,\n",
       "       4.92377828e-01, 2.42463508e-02, 5.06472109e-01, 2.25593223e-01,\n",
       "       5.02445171e-01, 3.86670720e-01, 4.92377828e-01, 1.63233504e+00,\n",
       "       4.88854258e-01, 1.04785100e-01, 8.87687861e-01, 4.37007438e-01,\n",
       "       4.86337422e-01, 3.86670720e-01, 4.86337422e-01, 4.89442190e-01,\n",
       "       1.16370019e+00, 4.60162328e-01, 4.37007438e-01, 5.02445171e-01,\n",
       "       3.86670720e-01, 1.35657615e-01, 1.03232136e+00, 4.91874461e-01,\n",
       "       3.76603377e-01, 1.64441595e-02, 4.37007438e-01, 4.96404765e-01,\n",
       "       1.24919787e-01, 1.19886115e-01, 4.37007438e-01, 4.01268368e-01,\n",
       "       3.57390858e-01, 3.36334002e-01, 4.37007438e-01, 5.04962007e-01,\n",
       "       5.02948539e-01, 1.16370019e+00, 4.91874461e-01, 3.56468689e-01,\n",
       "       4.09740724e-01, 1.24919787e-01, 5.02445171e-01, 4.37762489e-01,\n",
       "       1.13845709e-01, 3.24253190e-01, 2.41449289e-01, 3.41452240e-01,\n",
       "       9.46245572e-01, 1.09322879e+00, 9.66716653e+00, 1.24919787e-01,\n",
       "       4.92377828e-01, 1.64441595e-02, 9.55306181e-01, 6.48421654e-01,\n",
       "       4.92377828e-01, 4.37007438e-01, 1.50673744e-01, 4.91874461e-01,\n",
       "       2.44149778e+00, 2.08251241e+00, 2.42463508e-02, 6.48421654e-01,\n",
       "       2.55795253e-01, 5.04214441e-02, 4.92377828e-01, 9.21244331e-01,\n",
       "       4.92377828e-01, 6.48421654e-01, 6.19988892e-02, 2.40694238e-01,\n",
       "       4.92377828e-01, 4.90279793e-01, 4.57142125e-01, 4.86337422e-01,\n",
       "       1.24919787e-01, 4.74004926e-01, 4.57142125e-01, 4.89442190e-01,\n",
       "       3.86670720e-01, 4.92377828e-01, 9.39198431e-01, 1.18542955e+00,\n",
       "       3.89187556e-01, 4.70229672e-01, 4.89442190e-01, 9.02720170e-02,\n",
       "       5.02863973e-01, 2.40299019e+00, 3.43136943e-02, 4.33533223e+00,\n",
       "       4.92377828e-01, 1.80290176e-01, 6.48421654e-01, 3.99758267e-01,\n",
       "       4.86337422e-01, 2.40299019e+00, 1.58417891e+00, 1.54424578e+00,\n",
       "       1.65189161e-01, 4.97829980e-01, 1.02594470e+00, 4.63441690e+00,\n",
       "       1.24919787e-01, 4.89442190e-01, 1.19886115e-01, 4.90279793e-01,\n",
       "       1.24919787e-01, 3.66536033e-01, 2.67111778e+00, 2.05969377e+00,\n",
       "       5.02445171e-01, 4.89442190e-01, 3.99758267e-01, 6.45157251e-02,\n",
       "       7.51945840e-01, 2.08251241e+00, 5.22831542e-01, 3.86670720e-01,\n",
       "       2.35157199e-01, 5.18971402e-01, 1.80290176e-01, 7.45830687e-02,\n",
       "       2.44149778e+00, 2.85997284e-01, 2.04257929e+00, 4.89442190e-01,\n",
       "       6.92548513e-01, 2.05969377e+00, 4.86337422e-01, 6.63597416e-02,\n",
       "       1.24919787e-01, 4.64700108e+00, 3.86670720e-01, 3.86670720e-01,\n",
       "       3.86670720e-01, 3.86670720e-01, 3.86670720e-01, 3.24253190e-01,\n",
       "       3.28280127e-01, 4.74004926e-01, 4.62679164e-01, 5.62923980e-02,\n",
       "       5.02863973e-01, 2.90024222e-01, 5.02948539e-01, 4.57142125e-01,\n",
       "       4.58986142e-01, 3.86670720e-01, 4.89776426e-01, 4.89776426e-01,\n",
       "       8.66638810e-02, 9.02720170e-02, 3.57390858e-01, 5.06472109e-01,\n",
       "       3.36334002e-01, 5.02445171e-01, 8.66713557e-01, 5.02863973e-01,\n",
       "       4.92377828e-01, 7.46912168e-01, 4.67879633e-01, 5.17630753e-01,\n",
       "       4.86337422e-01, 2.08251241e+00, 2.24083121e-01, 1.00606170e+00,\n",
       "       5.02445171e-01, 3.61006469e+00, 5.67631221e-01, 4.91874461e-01,\n",
       "       3.93272305e+00, 3.31467448e-01, 4.88854258e-01, 3.98582080e-01,\n",
       "       4.89442190e-01, 8.31477855e-01, 2.95895176e-01, 3.86670720e-01,\n",
       "       4.92796629e-01, 4.06805407e-01, 1.76774081e+00, 4.91455659e-01,\n",
       "       4.88854258e-01, 1.63233504e+00, 3.12172378e-01, 4.91455659e-01,\n",
       "       4.90279793e-01, 1.24919787e-01, 4.37007438e-01, 3.93717861e-01,\n",
       "       4.88854258e-01, 4.86337422e-01, 4.50598352e-01, 3.29286862e-01,\n",
       "       4.74004926e-01, 2.25593223e-01, 4.92377828e-01, 2.70896269e-01,\n",
       "       4.91874461e-01, 1.35657615e-01, 4.89442190e-01, 5.10331928e-01,\n",
       "       1.16370019e+00, 6.48421654e-01, 4.88854258e-01, 4.86337422e-01,\n",
       "       5.95568003e-03, 3.86670720e-01, 3.86670720e-01, 1.62168958e-01,\n",
       "       4.89442190e-01, 4.92714077e-01, 4.89860992e-01, 3.58482158e-01,\n",
       "       2.41449289e-01, 5.02445171e-01, 1.24919787e-01, 1.24919787e-01,\n",
       "       4.92377828e-01, 4.86337422e-01, 1.13845709e-01, 3.24253190e-01,\n",
       "       1.24919787e-01, 5.04962007e-01, 4.77107360e-01, 1.76774081e+00,\n",
       "       4.37082185e-02, 2.70896269e-01, 4.64700108e+00, 4.37007438e-01,\n",
       "       1.19886115e-01, 4.57142125e-01, 4.91874461e-01, 3.86670720e-01,\n",
       "       4.85079004e-01, 9.99769611e-01, 2.55795253e-01, 1.13845709e-01,\n",
       "       2.60661807e-01, 3.43136943e-02, 8.96840841e-02, 2.46398395e-01,\n",
       "       8.96840841e-02, 1.14566354e+00, 4.86337422e-01, 4.89442190e-01,\n",
       "       1.13845709e-01, 3.95813561e-01, 4.37007438e-01, 4.92377828e-01,\n",
       "       1.13845709e-01, 4.86337422e-01, 1.26763803e-01, 3.86670720e-01,\n",
       "       4.86337422e-01, 5.06472109e-01, 6.48421654e-01, 1.13845709e-01,\n",
       "       4.92881195e-01, 2.60661807e-01, 5.02445171e-01, 4.74004926e-01,\n",
       "       8.96840841e-02, 3.70730088e-01, 4.50346668e-01, 3.98582080e-01,\n",
       "       2.25593223e-01, 5.06556675e-01, 4.96992698e-01, 4.01016685e-01,\n",
       "       2.95895176e-01, 6.48421654e-01, 4.86337422e-01, 4.55380340e-01,\n",
       "       1.18542955e+00, 1.35657615e-01, 1.16370019e+00, 5.04214441e-02,\n",
       "       4.86337422e-01, 3.28280127e-01, 2.46398395e-01, 5.02445171e-01,\n",
       "       3.43136943e-02, 3.48329928e-01, 4.86337422e-01, 3.57308306e-01,\n",
       "       9.27453868e-01, 3.44387877e-01, 2.40299019e+00, 4.91455659e-01,\n",
       "       4.74004926e-01, 4.92377828e-01, 4.94810098e-01, 4.55380340e-01,\n",
       "       1.09322879e+00, 1.54424578e+00, 1.24919787e-01, 1.13845709e-01,\n",
       "       1.94887825e-01, 4.89103607e-01, 4.92377828e-01, 4.86337422e-01,\n",
       "       1.19131064e-01, 5.47578765e-01, 4.97496065e-01, 3.65765123e-02,\n",
       "       4.37007438e-01, 1.62168958e-01, 1.24919787e-01, 4.89442190e-01,\n",
       "       1.23417160e+00, 4.89442190e-01, 5.02948539e-01, 5.18971402e-01,\n",
       "       5.02863973e-01, 4.92377828e-01, 4.37007438e-01, 3.81703316e+00,\n",
       "       4.88854258e-01, 4.16872751e-01, 1.24919787e-01, 5.02863973e-01,\n",
       "       5.02863973e-01, 1.98244277e-01, 4.74004926e-01, 1.19886115e-01,\n",
       "       1.13845709e-01, 1.49441243e+00, 3.56468689e-01, 3.48245362e-01,\n",
       "       7.81141137e-01, 1.87093118e-02, 1.87093118e-02, 1.24919787e-01,\n",
       "       1.49441243e+00, 1.24919787e-01, 1.24919787e-01, 3.69304552e-01,\n",
       "       2.35157199e-01, 9.15281006e-02, 1.58417891e+00, 1.24919787e-01,\n",
       "       4.90783161e-01, 5.02948539e-01, 4.91874461e-01, 1.13845709e-01,\n",
       "       1.48911959e-01, 3.93272305e+00, 9.55306181e-01, 2.98078096e-01,\n",
       "       4.92377828e-01, 4.89442190e-01, 3.76603377e-01, 4.86337422e-01,\n",
       "       4.86337422e-01, 1.62168958e-01, 4.89442190e-01, 2.24083121e-01,\n",
       "       5.02863973e-01, 4.90279793e-01, 4.37007438e-01, 3.88095935e-01,\n",
       "       1.17117595e-01, 4.92377828e-01, 4.86337422e-01, 3.56468689e-01,\n",
       "       3.86670720e-01, 4.77107360e-01, 3.57308306e-01, 4.88854258e-01,\n",
       "       4.43810379e-02, 1.58417891e+00, 1.24919787e-01, 1.59482670e-01,\n",
       "       4.72998191e-01, 9.55306181e-01, 3.46401346e-01, 9.46245572e-01,\n",
       "       4.86337422e-01, 4.86337422e-01, 5.04962007e-01, 9.27453868e-01,\n",
       "       5.02445171e-01, 4.92377828e-01, 1.24919787e-01, 1.62168958e-01,\n",
       "       1.60230236e-02, 6.48421654e-01, 5.02948539e-01, 4.97829980e-01,\n",
       "       1.04785100e-01, 4.89442190e-01, 2.05289083e-01, 4.86337422e-01,\n",
       "       1.13845709e-01, 3.35327268e-01, 4.89442190e-01, 3.43136943e-02,\n",
       "       1.88762532e-01, 2.44149778e+00, 1.87093118e-02, 5.06472109e-01,\n",
       "       3.36334002e-01, 4.92377828e-01, 4.86337422e-01, 6.60333014e-01,\n",
       "       3.58482158e-01, 3.24253190e-01, 1.36831147e-01, 4.37007438e-01,\n",
       "       3.57390858e-01, 4.09740724e-01, 3.31467448e-01, 4.90279793e-01,\n",
       "       3.24253190e-01, 2.34754408e-03, 3.99758267e-01, 9.21244331e-01,\n",
       "       4.89442190e-01, 4.92714077e-01, 4.43810379e-02, 5.06387543e-01,\n",
       "       3.43136943e-02, 6.48421654e-01, 8.66638810e-02, 3.86670720e-01,\n",
       "       4.88854258e-01, 1.19886115e-01, 1.50673744e-01, 3.24253190e-01,\n",
       "       4.90279793e-01, 7.46912168e-01, 8.66638810e-02, 4.89103607e-01,\n",
       "       2.60661807e-01, 8.96496787e-01, 4.89442190e-01, 6.63597416e-02,\n",
       "       4.96404765e-01, 4.96404765e-01, 4.89442190e-01, 1.85323848e-01,\n",
       "       4.78619796e-01, 4.90783161e-01, 5.12512515e-01, 8.31477855e-01,\n",
       "       4.89442190e-01, 3.36334002e-01, 3.86670720e-01, 1.63233504e+00,\n",
       "       2.04257929e+00, 5.02948539e-01, 1.33225345e-01, 4.97496065e-01,\n",
       "       4.88854258e-01, 8.31477855e-01, 3.86670720e-01, 4.91874461e-01,\n",
       "       4.86337422e-01, 3.98582080e-01, 1.36831147e-01, 3.98582080e-01,\n",
       "       4.37007438e-01, 3.86670720e-01, 6.48421654e-01, 4.91874461e-01,\n",
       "       4.86337422e-01, 4.50262103e-01, 2.95895176e-01, 9.66716653e+00,\n",
       "       4.84575637e-01, 8.96496787e-01, 4.62679164e-01, 2.95895176e-01,\n",
       "       1.36831147e-01, 1.88762532e-01, 1.50673744e-01, 4.43635777e-01,\n",
       "       4.91455659e-01, 3.60679280e+00, 4.99255516e-01, 3.78280596e-01,\n",
       "       4.89103607e-01, 5.02948539e-01, 1.13845709e-01, 3.76603377e-01,\n",
       "       4.86337422e-01, 4.92714077e-01, 1.58417891e+00, 4.94391297e-01,\n",
       "       3.93272305e+00, 1.19131064e-01, 3.57390858e-01, 4.92544946e-01,\n",
       "       4.90279793e-01, 1.24919787e-01, 3.76603377e-01, 1.19131064e-01,\n",
       "       2.40299019e+00, 3.41452240e-01, 3.48329928e-01, 1.13845709e-01,\n",
       "       3.98582080e-01, 4.57478375e-01, 3.86670720e-01, 4.94391297e-01,\n",
       "       3.93272305e+00, 4.37007438e-01, 3.36334002e-01, 4.91874461e-01,\n",
       "       1.60230236e-02, 5.06387543e-01, 3.86670720e-01, 3.86670720e-01,\n",
       "       4.20730236e-01, 4.74004926e-01, 2.25593223e-01, 4.92629511e-01,\n",
       "       1.24919787e-01, 4.88854258e-01, 3.60679280e+00, 2.70141218e-01,\n",
       "       6.48421654e-01, 3.86670720e-01, 3.86670720e-01, 3.24253190e-01,\n",
       "       4.37082185e-02, 9.66716653e+00, 4.89442190e-01, 4.89442190e-01,\n",
       "       4.43810379e-02, 9.39198431e-01, 4.63441690e+00, 3.24253190e-01,\n",
       "       4.88854258e-01, 7.81141137e-01, 2.40694238e-01, 3.86670720e-01,\n",
       "       4.20730236e-01, 4.92377828e-01, 1.85323848e-01, 3.97241431e-01,\n",
       "       4.57142125e-01, 4.89442190e-01, 6.60333014e-01, 3.56468689e-01,\n",
       "       4.91455659e-01, 4.16872751e-01, 4.86337422e-01, 1.09322879e+00,\n",
       "       3.56468689e-01, 5.04962007e-01, 5.02863973e-01, 1.76774081e+00,\n",
       "       4.91874461e-01, 9.21244331e-01, 1.48911959e-01, 4.92377828e-01,\n",
       "       1.62168958e-01, 4.80045332e-01, 4.57142125e-01, 4.90279793e-01,\n",
       "       4.37007438e-01, 5.02948539e-01, 1.85323848e-01, 4.92377828e-01,\n",
       "       4.92377828e-01, 3.97241431e-01, 4.92629511e-01, 3.60679280e+00,\n",
       "       5.02863973e-01, 4.99255516e-01, 4.43810379e-02, 1.76263239e-01,\n",
       "       5.06472109e-01, 5.02445171e-01, 4.97496065e-01, 6.19988892e-02,\n",
       "       2.34150465e-01, 9.46245572e-01, 4.92377828e-01, 1.24919787e-01,\n",
       "       7.51945840e-01, 3.03713226e-02, 4.89442190e-01, 3.86670720e-01,\n",
       "       1.26345323e-01, 4.73586124e-01, 5.02863973e-01, 1.62168958e-01,\n",
       "       3.86670720e-01, 1.19886115e-01, 1.76774081e+00, 4.76940563e-01,\n",
       "       5.07982210e-01, 4.91874461e-01, 6.48421654e-01, 4.91874461e-01,\n",
       "       3.86670720e-01, 4.20730236e-01, 4.89609308e-01, 1.62168958e-01,\n",
       "       4.37007438e-01, 1.87093118e-02, 4.86337422e-01, 6.48421654e-01,\n",
       "       4.88854258e-01, 9.66463381e-02, 5.18552921e-01, 8.66638810e-02,\n",
       "       1.23417160e+00, 4.74004926e-01, 6.48421654e-01, 3.97241431e-01,\n",
       "       1.50673744e-01, 5.08485578e-01, 4.89103607e-01, 9.66463381e-02,\n",
       "       4.92377828e-01, 9.62353321e-01, 3.57390858e-01, 2.70896269e-01,\n",
       "       5.02863973e-01, 4.90279793e-01, 4.81303750e-01, 1.02594470e+00,\n",
       "       4.74004926e-01, 4.86337422e-01, 4.89103607e-01, 5.04214441e-02,\n",
       "       4.88854258e-01, 4.37007438e-01, 2.42463508e-02, 5.18804605e-01,\n",
       "       4.74004926e-01, 4.96404765e-01, 7.51945840e-01, 4.89442190e-01,\n",
       "       1.60230236e-02, 1.14566354e+00, 1.87093118e-02, 4.91874461e-01,\n",
       "       3.41452240e-01, 1.44885022e-01, 1.24919787e-01, 4.60162328e-01,\n",
       "       2.67111778e+00, 1.13845709e-01, 2.60661807e-01, 5.02863973e-01,\n",
       "       3.64355446e-01, 4.16872751e-01, 1.26345323e-01, 7.51945840e-01,\n",
       "       3.86670720e-01, 3.86670720e-01, 3.69389118e-01, 3.68295484e-01,\n",
       "       4.57142125e-01, 4.24256141e-01, 4.89442190e-01, 4.09740724e-01,\n",
       "       5.47748218e-01, 4.67209469e-01, 1.65189161e-01, 5.02948539e-01,\n",
       "       4.50179550e-01, 4.89442190e-01, 4.89442190e-01, 1.02594470e+00,\n",
       "       1.24919787e-01, 4.89442190e-01, 4.36671189e-01, 4.37007438e-01,\n",
       "       5.06472109e-01, 6.19988892e-02, 3.86670720e-01, 4.43810379e-02,\n",
       "       1.76263239e-01, 4.43810379e-02, 4.92377828e-01])"
      ]
     },
     "execution_count": 12,
     "metadata": {},
     "output_type": "execute_result"
    }
   ],
   "source": [
    "z_abs = np.abs(z)\n",
    "z_abs # here dtype is octadecimal or int64"
   ]
  },
  {
   "cell_type": "markdown",
   "metadata": {},
   "source": [
    "Now, as we can see it will be impossible to find out the outliers from the above given data table. So, now we use a threshold or the max value 3 to find out the outliers. For this, we use the where function from numpy, in which only those values will be passed which satisfy the condition provided which in this case is greater than 3. Following syntax is used:\n",
    "    numpy.where(condition)"
   ]
  },
  {
   "cell_type": "code",
   "execution_count": 13,
   "metadata": {},
   "outputs": [
    {
     "data": {
      "text/plain": [
       "(array([ 27,  88, 118, 258, 299, 311, 341, 377, 380, 438, 527, 557, 679,\n",
       "        689, 700, 716, 730, 737, 742, 779], dtype=int64),)"
      ]
     },
     "execution_count": 13,
     "metadata": {},
     "output_type": "execute_result"
    }
   ],
   "source": [
    "location = np.where(z_abs>3) # as we can see we now have the  position of all the outliers in the array which gives us location \n",
    "location                     # of outliers in the given dataset. We can put these values to find out the outliers."
   ]
  },
  {
   "cell_type": "code",
   "execution_count": 38,
   "metadata": {},
   "outputs": [
    {
     "data": {
      "text/plain": [
       "4.647001076532463"
      ]
     },
     "execution_count": 38,
     "metadata": {},
     "output_type": "execute_result"
    }
   ],
   "source": [
    "z_abs[27] # as we see value is 4.64 which is greater than 3 so it is an outlier."
   ]
  },
  {
   "cell_type": "code",
   "execution_count": 15,
   "metadata": {},
   "outputs": [
    {
     "data": {
      "text/plain": [
       "3.9327230485884233"
      ]
     },
     "execution_count": 15,
     "metadata": {},
     "output_type": "execute_result"
    }
   ],
   "source": [
    "z_abs[716]"
   ]
  },
  {
   "cell_type": "markdown",
   "metadata": {},
   "source": [
    "We can use the location on ther original dataset to findout the original data which is an outlier."
   ]
  },
  {
   "cell_type": "code",
   "execution_count": 16,
   "metadata": {},
   "outputs": [
    {
     "data": {
      "text/plain": [
       "78.85"
      ]
     },
     "execution_count": 16,
     "metadata": {},
     "output_type": "execute_result"
    }
   ],
   "source": [
    "ds3['Fare'][742] # given value in the dataset is an outlier."
   ]
  },
  {
   "cell_type": "raw",
   "metadata": {},
   "source": []
  },
  {
   "cell_type": "markdown",
   "metadata": {},
   "source": [
    "# Discovering outliers using quantile or percetiles."
   ]
  },
  {
   "cell_type": "markdown",
   "metadata": {},
   "source": [
    "Outliers can also be found out using the quantiles. We know the Interquartile Range is the difference between 7percentile and 25 percentile. From the box plot we also know thata the outliers lie outside the box plot. The values between 25 percentile and min value in box plot is given by 1.5 * IQR. Similarly the value between 75 percentile and MAx value is also given by 1.5 * IQR. So the outliers will be less than Q1 - (1.5 * IQR) or more than Q3 + (1.5 * IQR). All the values which satisfy this condition will be outliers. So finding outliers using the quantiles as below:"
   ]
  },
  {
   "cell_type": "code",
   "execution_count": 20,
   "metadata": {},
   "outputs": [
    {
     "data": {
      "text/plain": [
       "7.9104"
      ]
     },
     "execution_count": 20,
     "metadata": {},
     "output_type": "execute_result"
    }
   ],
   "source": [
    "Q1_ds3 = ds3['Fare'].quantile(0.25) # if we want 25 percentile, we write it as 0.25 in quantile function.\n",
    "Q1_ds3 # below is the value of 25 percentile"
   ]
  },
  {
   "cell_type": "code",
   "execution_count": 21,
   "metadata": {},
   "outputs": [
    {
     "data": {
      "text/plain": [
       "31.0"
      ]
     },
     "execution_count": 21,
     "metadata": {},
     "output_type": "execute_result"
    }
   ],
   "source": [
    "Q3_ds3 = ds3['Fare'].quantile(0.75) # if we want 25 percentile, we write it as 0.25 in quantile function.\n",
    "Q3_ds3 # below is the value of 75 percentile"
   ]
  },
  {
   "cell_type": "code",
   "execution_count": 23,
   "metadata": {},
   "outputs": [
    {
     "data": {
      "text/plain": [
       "23.0896"
      ]
     },
     "execution_count": 23,
     "metadata": {},
     "output_type": "execute_result"
    }
   ],
   "source": [
    "IQR = Q3_ds3 - Q1_ds3\n",
    "IQR # below is the value of inter quartile range"
   ]
  },
  {
   "cell_type": "code",
   "execution_count": 33,
   "metadata": {},
   "outputs": [
    {
     "data": {
      "text/plain": [
       "PassengerId\n",
       "1      False\n",
       "2       True\n",
       "3      False\n",
       "4      False\n",
       "5      False\n",
       "       ...  \n",
       "887    False\n",
       "888    False\n",
       "889    False\n",
       "890    False\n",
       "891    False\n",
       "Name: Fare, Length: 891, dtype: bool"
      ]
     },
     "execution_count": 33,
     "metadata": {},
     "output_type": "execute_result"
    }
   ],
   "source": [
    "out = (( ds3['Fare'] < (Q1_ds3 - (1.5 * IQR)) ) | ( ds3['Fare'] > (Q3_ds3 + (1.5 * IQR)) ))\n",
    "out # First part is where the values which are less than \"(Q1_ds3 - (1.5 * IQR))\" from the \"ds3['Fare']\" are outliers\n",
    "   # Second part is where the values which are more than \"(Q3_ds3 + (1.5 * IQR))\" from the \"ds3['Fare']\" are outliers"
   ]
  },
  {
   "cell_type": "markdown",
   "metadata": {},
   "source": [
    "The values where we have True as the output are the outliers in the dataset."
   ]
  },
  {
   "cell_type": "code",
   "execution_count": 36,
   "metadata": {},
   "outputs": [
    {
     "data": {
      "text/plain": [
       "(array([  1,  27,  31,  34,  52,  61,  62,  72,  88, 102, 118, 120, 124,\n",
       "        139, 151, 159, 180, 195, 201, 215, 218, 224, 230, 245, 256, 257,\n",
       "        258, 262, 268, 269, 275, 290, 291, 297, 299, 305, 306, 307, 310,\n",
       "        311, 318, 319, 324, 325, 332, 334, 336, 337, 341, 366, 369, 373,\n",
       "        375, 377, 380, 385, 390, 393, 412, 435, 438, 445, 453, 484, 486,\n",
       "        496, 498, 504, 505, 520, 527, 537, 540, 544, 550, 557, 558, 581,\n",
       "        585, 587, 591, 609, 627, 641, 645, 655, 659, 660, 665, 679, 681,\n",
       "        689, 698, 700, 708, 716, 730, 737, 741, 742, 745, 759, 763, 765,\n",
       "        779, 789, 792, 802, 820, 829, 835, 846, 849, 856, 863, 879],\n",
       "       dtype=int64),)"
      ]
     },
     "execution_count": 36,
     "metadata": {},
     "output_type": "execute_result"
    }
   ],
   "source": [
    "location1 = np.where(out == True)\n",
    "location1 # using numpy.where to find out the location of the outliers.\n",
    "# asked doubt. We use both methods and select the one where less data is lost whiole removing the outliers"
   ]
  },
  {
   "cell_type": "raw",
   "metadata": {},
   "source": []
  },
  {
   "cell_type": "markdown",
   "metadata": {},
   "source": [
    "# Removing the Outliers from dataset"
   ]
  },
  {
   "cell_type": "markdown",
   "metadata": {},
   "source": [
    "Now we have to remove the outliers from the original dataset. For this we use simple slicing along with the condition. As shown in below code, first we select the dataset or the column with the outliers in them, then we only select the values whose absolute z-score is less than 3. then as a result we have the dataset which is normal and does not consist of any outliers."
   ]
  },
  {
   "cell_type": "markdown",
   "metadata": {},
   "source": [
    "Removing outliers using Z-Score method"
   ]
  },
  {
   "cell_type": "code",
   "execution_count": 45,
   "metadata": {},
   "outputs": [
    {
     "data": {
      "text/plain": [
       "PassengerId\n",
       "1       7.2500\n",
       "2      71.2833\n",
       "3       7.9250\n",
       "4      53.1000\n",
       "5       8.0500\n",
       "        ...   \n",
       "887    13.0000\n",
       "888    30.0000\n",
       "889    23.4500\n",
       "890    30.0000\n",
       "891     7.7500\n",
       "Name: Fare, Length: 871, dtype: float64"
      ]
     },
     "execution_count": 45,
     "metadata": {},
     "output_type": "execute_result"
    }
   ],
   "source": [
    "ds3_new = ds3['Fare'][z_abs < 3] # selecting only values from \"ds3['Fare']\" whose \"[z_abs < 3]\"\n",
    "ds3_new # we get the column without the outliers."
   ]
  },
  {
   "cell_type": "code",
   "execution_count": 42,
   "metadata": {},
   "outputs": [
    {
     "data": {
      "text/plain": [
       "(891,)"
      ]
     },
     "execution_count": 42,
     "metadata": {},
     "output_type": "execute_result"
    }
   ],
   "source": [
    "ds3['Fare'].shape"
   ]
  },
  {
   "cell_type": "markdown",
   "metadata": {},
   "source": [
    "As we can see the original data with outliers had 891 rows, but after removing the outliers only 871 rows are left. So the 20 rows with outliers are removed from the dataset."
   ]
  },
  {
   "cell_type": "markdown",
   "metadata": {},
   "source": [
    "Removing outliers using quantile method."
   ]
  },
  {
   "cell_type": "code",
   "execution_count": 47,
   "metadata": {},
   "outputs": [
    {
     "data": {
      "text/plain": [
       "PassengerId\n",
       "1       7.2500\n",
       "3       7.9250\n",
       "4      53.1000\n",
       "5       8.0500\n",
       "6       8.4583\n",
       "        ...   \n",
       "887    13.0000\n",
       "888    30.0000\n",
       "889    23.4500\n",
       "890    30.0000\n",
       "891     7.7500\n",
       "Name: Fare, Length: 775, dtype: float64"
      ]
     },
     "execution_count": 47,
     "metadata": {},
     "output_type": "execute_result"
    }
   ],
   "source": [
    "ds3_new = ds3['Fare'][out == False]\n",
    "ds3_new"
   ]
  },
  {
   "cell_type": "code",
   "execution_count": 49,
   "metadata": {},
   "outputs": [
    {
     "data": {
      "text/plain": [
       "(891,)"
      ]
     },
     "execution_count": 49,
     "metadata": {},
     "output_type": "execute_result"
    }
   ],
   "source": [
    "ds3[\"Fare\"].shape"
   ]
  },
  {
   "cell_type": "markdown",
   "metadata": {},
   "source": [
    "As we can see the original data with outliers had 891 rows, but after removing the outliers only 775 rows are left. So more than 100 rows with outliers are removed from the dataset."
   ]
  },
  {
   "cell_type": "markdown",
   "metadata": {},
   "source": [
    "Now we see that from the z-score approach, 20 rows we eliminated, but from quantile approach, more thatn 100 rows were eliminated. So, we always go with the approach in which the less rows are eliminated."
   ]
  },
  {
   "cell_type": "code",
   "execution_count": null,
   "metadata": {},
   "outputs": [],
   "source": []
  }
 ],
 "metadata": {
  "kernelspec": {
   "display_name": "Python 3",
   "language": "python",
   "name": "python3"
  },
  "language_info": {
   "codemirror_mode": {
    "name": "ipython",
    "version": 3
   },
   "file_extension": ".py",
   "mimetype": "text/x-python",
   "name": "python",
   "nbconvert_exporter": "python",
   "pygments_lexer": "ipython3",
   "version": "3.8.5"
  }
 },
 "nbformat": 4,
 "nbformat_minor": 4
}
